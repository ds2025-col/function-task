{
  "nbformat": 4,
  "nbformat_minor": 0,
  "metadata": {
    "colab": {
      "provenance": [],
      "authorship_tag": "ABX9TyNp/RUx6e62IC3aN1CNJ3Y+",
      "include_colab_link": true
    },
    "kernelspec": {
      "name": "python3",
      "display_name": "Python 3"
    },
    "language_info": {
      "name": "python"
    }
  },
  "cells": [
    {
      "cell_type": "markdown",
      "metadata": {
        "id": "view-in-github",
        "colab_type": "text"
      },
      "source": [
        "<a href=\"https://colab.research.google.com/github/ds2025-col/function-task/blob/main/functions.ipynb\" target=\"_parent\"><img src=\"https://colab.research.google.com/assets/colab-badge.svg\" alt=\"Open In Colab\"/></a>"
      ]
    },
    {
      "cell_type": "markdown",
      "source": [
        "**FUNCTIONS**\n",
        "\n",
        "A function is a block of code which only run when its called.\n",
        "\n",
        "you can pass data known as parameters into a function.\n",
        "\n",
        "a function can return data has a result.\n",
        "\n",
        "SYNTAX:-\n",
        "\n",
        "def function _name(argument):\n",
        "\n",
        "\n",
        "function statement(the task perfomed in function)\n",
        "\n",
        "return some value\n",
        "\n",
        "function _name(function call)"
      ],
      "metadata": {
        "id": "GYK-q4r_f1na"
      }
    },
    {
      "cell_type": "code",
      "source": [
        "def fun():\n",
        "  print('hello')\n",
        "fun()"
      ],
      "metadata": {
        "colab": {
          "base_uri": "https://localhost:8080/"
        },
        "id": "JmN_H48CgycS",
        "outputId": "4016a6f8-6c90-4379-dfa4-8044390abb6c"
      },
      "execution_count": null,
      "outputs": [
        {
          "output_type": "stream",
          "name": "stdout",
          "text": [
            "hello\n"
          ]
        }
      ]
    },
    {
      "cell_type": "code",
      "source": [
        "#a function without argument and no return value\n",
        "def add():\n",
        "  n1=18\n",
        "  n2=2\n",
        "  sum=n1+n2\n",
        "  print(sum)\n",
        "add()"
      ],
      "metadata": {
        "colab": {
          "base_uri": "https://localhost:8080/"
        },
        "id": "H7zRxMLYh-8N",
        "outputId": "19332865-aa62-4161-aaff-b2f014131655"
      },
      "execution_count": null,
      "outputs": [
        {
          "output_type": "stream",
          "name": "stdout",
          "text": [
            "20\n"
          ]
        }
      ]
    },
    {
      "cell_type": "code",
      "source": [
        "#function with argument nad no return value\n",
        "def add(n1,n2):\n",
        "  sum=n1+n2\n",
        "  print(sum)\n",
        "add(18,2)"
      ],
      "metadata": {
        "colab": {
          "base_uri": "https://localhost:8080/"
        },
        "id": "E8owPy3yikxM",
        "outputId": "3c642ab4-1076-45a2-c430-d1513f2162c3"
      },
      "execution_count": null,
      "outputs": [
        {
          "output_type": "stream",
          "name": "stdout",
          "text": [
            "20\n"
          ]
        }
      ]
    },
    {
      "cell_type": "code",
      "source": [
        "def mul(n1,n2):\n",
        "  mul=n1*n2\n",
        "  print(mul)\n",
        "mul(10,2)\n",
        "mul(2,5)"
      ],
      "metadata": {
        "colab": {
          "base_uri": "https://localhost:8080/"
        },
        "id": "TraBLkQBjnav",
        "outputId": "c6d4108a-4726-423c-aff7-b82038858430"
      },
      "execution_count": null,
      "outputs": [
        {
          "output_type": "stream",
          "name": "stdout",
          "text": [
            "20\n",
            "10\n"
          ]
        }
      ]
    },
    {
      "cell_type": "code",
      "source": [
        "def div(n,m):\n",
        "  div=n/m\n",
        "  print(div)\n",
        "div(10,2)"
      ],
      "metadata": {
        "colab": {
          "base_uri": "https://localhost:8080/"
        },
        "id": "wRpCVSYekLls",
        "outputId": "7371f00b-7a6e-45d9-8841-56dbe7584ba3"
      },
      "execution_count": null,
      "outputs": [
        {
          "output_type": "stream",
          "name": "stdout",
          "text": [
            "5.0\n"
          ]
        }
      ]
    },
    {
      "cell_type": "code",
      "execution_count": null,
      "metadata": {
        "colab": {
          "base_uri": "https://localhost:8080/"
        },
        "id": "z-xJ_WjgeRtd",
        "outputId": "477d7100-cf0b-4bdd-d672-cb5d5c051c33"
      },
      "outputs": [
        {
          "output_type": "stream",
          "name": "stdout",
          "text": [
            "enter  num1:12\n",
            "enter num2:3\n",
            "15\n"
          ]
        }
      ],
      "source": [
        "def fn():\n",
        "  x=int(input('enter  num1:'))\n",
        "  y=int(input('enter num2:'))\n",
        "  return(x+y)\n",
        "print(fn())"
      ]
    },
    {
      "cell_type": "code",
      "source": [
        "def sub(a,b=10):\n",
        "  if a>b:\n",
        "    sub=a-b\n",
        "  else:\n",
        "      sub=b-a\n",
        "      return(sub)\n",
        "print(sub(9))\n"
      ],
      "metadata": {
        "colab": {
          "base_uri": "https://localhost:8080/"
        },
        "id": "rKKf9iMQo9Xj",
        "outputId": "254d1f43-0104-46b5-e92b-f539aaf397d4"
      },
      "execution_count": null,
      "outputs": [
        {
          "output_type": "stream",
          "name": "stdout",
          "text": [
            "1\n"
          ]
        }
      ]
    },
    {
      "cell_type": "code",
      "source": [
        "def add(a,b=10,c=3):\n",
        " add=a+b+c\n",
        " return(add)\n",
        "print(add(10))\n",
        "print(add(4,2,5))\n",
        "print(add(6,2,4))\n"
      ],
      "metadata": {
        "colab": {
          "base_uri": "https://localhost:8080/"
        },
        "id": "JqpfRREbp9-l",
        "outputId": "ab748a7b-a6ab-4693-cf06-85eb8c901764"
      },
      "execution_count": null,
      "outputs": [
        {
          "output_type": "stream",
          "name": "stdout",
          "text": [
            "23\n",
            "11\n",
            "12\n"
          ]
        }
      ]
    },
    {
      "cell_type": "code",
      "source": [
        "def fun(string):\n",
        "  vowels='aeiouAEIOU'\n",
        "  for i in string:\n",
        "    if i in vowels:\n",
        "      string=string.replace(i,'')\n",
        "  return(string)\n",
        "print(fun('orange'))\n"
      ],
      "metadata": {
        "colab": {
          "base_uri": "https://localhost:8080/"
        },
        "id": "PX1JqXK6tLjA",
        "outputId": "8cda7442-ee2c-493d-d755-5da3337214e5"
      },
      "execution_count": null,
      "outputs": [
        {
          "output_type": "stream",
          "name": "stdout",
          "text": [
            "rng\n"
          ]
        }
      ]
    },
    {
      "cell_type": "code",
      "source": [
        "def fact(num):\n",
        "  fact=1\n",
        "  if num<0:\n",
        "    print('factorial does not exist for -ve num')\n",
        "  elif num==0:\n",
        "      print('factorial of 0 is 1')\n",
        "  else:\n",
        "        for i in range(1,num+1):\n",
        "          fact=fact*i\n",
        "  return(fact)\n",
        "print(fact(3))"
      ],
      "metadata": {
        "colab": {
          "base_uri": "https://localhost:8080/"
        },
        "id": "o44dGLMQwnqc",
        "outputId": "cc71b48a-2522-4c78-e69c-5414239b9190"
      },
      "execution_count": null,
      "outputs": [
        {
          "output_type": "stream",
          "name": "stdout",
          "text": [
            "6\n"
          ]
        }
      ]
    },
    {
      "cell_type": "markdown",
      "source": [
        "**module**\n",
        "\n",
        "what is module in python?\n",
        "\n",
        "A module is a simple pyhton file that contain collection of functions and global variable and with having .py extesion.\n",
        "\n",
        "its a exicutable file and to roganizes we have the concept called package in python.\n",
        "\n",
        "Exaples of modules:\n",
        "\n",
        "\n",
        "-DATETIME\n",
        "\n",
        "-REGEX\n",
        "\n",
        "-RANDOM\n",
        "\n",
        "-CALENDER\n",
        "\n",
        "WHAT IS A PACKAGE IN PYTHON?\n",
        "\n",
        "A package is a simple dictionary having collection of modules.This dictionary contain simple modules and\n",
        "\n",
        "the package is simply a namespace.The package is also contains sub-package inside it.\n",
        "\n",
        "Examples of package:\n",
        "\n",
        "-NUMPY\n",
        "\n",
        "\n",
        "-PANDAS\n",
        "\n",
        "\n",
        "What is library in python\n",
        "\n",
        "the library having a collection of ralated functionality of ciides that allows you to perform many tasks without writng yours code.\n",
        "\n",
        "its is a reusable chunk of code that we can use by importing it into our prgm ,we can just use it by importing that library and  calling the method of that library with a period(.).however it is often assumed that while a package is a coolection of module.\n",
        "\n",
        "it is a collection of package\n",
        "\n",
        "exaples of library:\n",
        "\n",
        "-MATLPOTLIB\n",
        "\n",
        "-PYTORCH\n",
        "\n",
        "-PYGAME\n",
        "\n",
        "-SEABORN\n",
        "\n",
        "\n"
      ],
      "metadata": {
        "id": "eq5L-8pbxkrQ"
      }
    },
    {
      "cell_type": "code",
      "source": [],
      "metadata": {
        "id": "ALsT_Arw32kk"
      },
      "execution_count": null,
      "outputs": []
    },
    {
      "cell_type": "markdown",
      "source": [
        "print() is a build in function that displays output to the console. its primarly used for showing information to the user\n",
        "\n",
        "return is a keyword used within functions to specially the value that the function show o/p when its is called.\n",
        "\n",
        "This value can be used by othe part of your code."
      ],
      "metadata": {
        "id": "oScF_qye4d-w"
      }
    },
    {
      "cell_type": "code",
      "source": [
        "def printsum(a,b):\n",
        "  sum=a+b\n",
        "  print(sum)"
      ],
      "metadata": {
        "id": "KaywFNZX8ky_"
      },
      "execution_count": 1,
      "outputs": []
    },
    {
      "cell_type": "code",
      "source": [
        "printsum(2,9)"
      ],
      "metadata": {
        "colab": {
          "base_uri": "https://localhost:8080/"
        },
        "id": "N48JXbkt9Iqc",
        "outputId": "1642d261-becd-4f04-a543-3b3bf48dc116"
      },
      "execution_count": 2,
      "outputs": [
        {
          "output_type": "stream",
          "name": "stdout",
          "text": [
            "11\n"
          ]
        }
      ]
    },
    {
      "cell_type": "code",
      "source": [
        "x=printsum(2,9)"
      ],
      "metadata": {
        "colab": {
          "base_uri": "https://localhost:8080/"
        },
        "id": "GwrDhRcI9RSF",
        "outputId": "1ab0ba34-6bc6-4f1f-f02e-0f9275a69def"
      },
      "execution_count": 3,
      "outputs": [
        {
          "output_type": "stream",
          "name": "stdout",
          "text": [
            "11\n"
          ]
        }
      ]
    },
    {
      "cell_type": "code",
      "source": [
        "print(x)  #return value print() doennt return any meaningful value.it returns none"
      ],
      "metadata": {
        "colab": {
          "base_uri": "https://localhost:8080/"
        },
        "id": "Cb45o7nl9ZBM",
        "outputId": "5aac1ec9-a94b-4e74-9274-c2b707359877"
      },
      "execution_count": 4,
      "outputs": [
        {
          "output_type": "stream",
          "name": "stdout",
          "text": [
            "None\n"
          ]
        }
      ]
    },
    {
      "cell_type": "code",
      "source": [
        "def returnsum(a,b):\n",
        "  sum=a+b\n",
        "  return sum"
      ],
      "metadata": {
        "id": "TInPpHAQ93Um"
      },
      "execution_count": 8,
      "outputs": []
    },
    {
      "cell_type": "code",
      "source": [
        "returnsum(2,9)"
      ],
      "metadata": {
        "colab": {
          "base_uri": "https://localhost:8080/"
        },
        "id": "EILPCZ_R-ENq",
        "outputId": "6dfb9a3a-6751-4cd7-fd23-3d9a36f36b48"
      },
      "execution_count": 9,
      "outputs": [
        {
          "output_type": "execute_result",
          "data": {
            "text/plain": [
              "11"
            ]
          },
          "metadata": {},
          "execution_count": 9
        }
      ]
    },
    {
      "cell_type": "code",
      "source": [
        "y=returnsum(2,9)"
      ],
      "metadata": {
        "id": "4ZYH7L_r-eyQ"
      },
      "execution_count": 10,
      "outputs": []
    },
    {
      "cell_type": "code",
      "source": [
        "print(y)"
      ],
      "metadata": {
        "colab": {
          "base_uri": "https://localhost:8080/"
        },
        "id": "xQ3U1zMg-kud",
        "outputId": "c7f70141-3cf5-4648-994a-7a09b395352b"
      },
      "execution_count": 11,
      "outputs": [
        {
          "output_type": "stream",
          "name": "stdout",
          "text": [
            "11\n"
          ]
        }
      ]
    },
    {
      "cell_type": "code",
      "source": [
        "def cube():\n",
        " x=int(input('enter a num: '))\n",
        " cube=x**3\n",
        " return cube\n",
        "cube()"
      ],
      "metadata": {
        "colab": {
          "base_uri": "https://localhost:8080/"
        },
        "id": "3DXrSCNN-wvm",
        "outputId": "4a8e5cc0-2591-4691-979b-9e8ef7ceef9e"
      },
      "execution_count": 14,
      "outputs": [
        {
          "name": "stdout",
          "output_type": "stream",
          "text": [
            "enter a num: 2\n"
          ]
        },
        {
          "output_type": "execute_result",
          "data": {
            "text/plain": [
              "8"
            ]
          },
          "metadata": {},
          "execution_count": 14
        }
      ]
    },
    {
      "cell_type": "code",
      "source": [
        "def  rem():\n",
        "  x=int(input('enter a num'))\n",
        "  y=int(input('enter a num'))\n",
        "  rem=x%Y\n",
        "  return rem\n",
        "rem()\n"
      ],
      "metadata": {
        "colab": {
          "base_uri": "https://localhost:8080/",
          "height": 321
        },
        "id": "rLZplCRT_z8O",
        "outputId": "75f48006-7b95-491b-eb13-87f0d40f76ff"
      },
      "execution_count": 17,
      "outputs": [
        {
          "output_type": "error",
          "ename": "KeyboardInterrupt",
          "evalue": "Interrupted by user",
          "traceback": [
            "\u001b[0;31m---------------------------------------------------------------------------\u001b[0m",
            "\u001b[0;31mKeyboardInterrupt\u001b[0m                         Traceback (most recent call last)",
            "\u001b[0;32m<ipython-input-17-9d673ae628ae>\u001b[0m in \u001b[0;36m<cell line: 0>\u001b[0;34m()\u001b[0m\n\u001b[1;32m      4\u001b[0m   \u001b[0mrem\u001b[0m\u001b[0;34m=\u001b[0m\u001b[0mx\u001b[0m\u001b[0;34m%\u001b[0m\u001b[0mY\u001b[0m\u001b[0;34m\u001b[0m\u001b[0;34m\u001b[0m\u001b[0m\n\u001b[1;32m      5\u001b[0m   \u001b[0;32mreturn\u001b[0m \u001b[0mrem\u001b[0m\u001b[0;34m\u001b[0m\u001b[0;34m\u001b[0m\u001b[0m\n\u001b[0;32m----> 6\u001b[0;31m \u001b[0mrem\u001b[0m\u001b[0;34m(\u001b[0m\u001b[0;34m)\u001b[0m\u001b[0;34m\u001b[0m\u001b[0;34m\u001b[0m\u001b[0m\n\u001b[0m",
            "\u001b[0;32m<ipython-input-17-9d673ae628ae>\u001b[0m in \u001b[0;36mrem\u001b[0;34m()\u001b[0m\n\u001b[1;32m      1\u001b[0m \u001b[0;32mdef\u001b[0m  \u001b[0mrem\u001b[0m\u001b[0;34m(\u001b[0m\u001b[0;34m)\u001b[0m\u001b[0;34m:\u001b[0m\u001b[0;34m\u001b[0m\u001b[0;34m\u001b[0m\u001b[0m\n\u001b[0;32m----> 2\u001b[0;31m   \u001b[0mx\u001b[0m\u001b[0;34m=\u001b[0m\u001b[0mint\u001b[0m\u001b[0;34m(\u001b[0m\u001b[0minput\u001b[0m\u001b[0;34m(\u001b[0m\u001b[0;34m'enter a num'\u001b[0m\u001b[0;34m)\u001b[0m\u001b[0;34m)\u001b[0m\u001b[0;34m\u001b[0m\u001b[0;34m\u001b[0m\u001b[0m\n\u001b[0m\u001b[1;32m      3\u001b[0m   \u001b[0my\u001b[0m\u001b[0;34m=\u001b[0m\u001b[0mint\u001b[0m\u001b[0;34m(\u001b[0m\u001b[0minput\u001b[0m\u001b[0;34m(\u001b[0m\u001b[0;34m'enter a num'\u001b[0m\u001b[0;34m)\u001b[0m\u001b[0;34m)\u001b[0m\u001b[0;34m\u001b[0m\u001b[0;34m\u001b[0m\u001b[0m\n\u001b[1;32m      4\u001b[0m   \u001b[0mrem\u001b[0m\u001b[0;34m=\u001b[0m\u001b[0mx\u001b[0m\u001b[0;34m%\u001b[0m\u001b[0mY\u001b[0m\u001b[0;34m\u001b[0m\u001b[0;34m\u001b[0m\u001b[0m\n\u001b[1;32m      5\u001b[0m   \u001b[0;32mreturn\u001b[0m \u001b[0mrem\u001b[0m\u001b[0;34m\u001b[0m\u001b[0;34m\u001b[0m\u001b[0m\n",
            "\u001b[0;32m/usr/local/lib/python3.11/dist-packages/ipykernel/kernelbase.py\u001b[0m in \u001b[0;36mraw_input\u001b[0;34m(self, prompt)\u001b[0m\n\u001b[1;32m    849\u001b[0m                 \u001b[0;34m\"raw_input was called, but this frontend does not support input requests.\"\u001b[0m\u001b[0;34m\u001b[0m\u001b[0;34m\u001b[0m\u001b[0m\n\u001b[1;32m    850\u001b[0m             )\n\u001b[0;32m--> 851\u001b[0;31m         return self._input_request(str(prompt),\n\u001b[0m\u001b[1;32m    852\u001b[0m             \u001b[0mself\u001b[0m\u001b[0;34m.\u001b[0m\u001b[0m_parent_ident\u001b[0m\u001b[0;34m,\u001b[0m\u001b[0;34m\u001b[0m\u001b[0;34m\u001b[0m\u001b[0m\n\u001b[1;32m    853\u001b[0m             \u001b[0mself\u001b[0m\u001b[0;34m.\u001b[0m\u001b[0m_parent_header\u001b[0m\u001b[0;34m,\u001b[0m\u001b[0;34m\u001b[0m\u001b[0;34m\u001b[0m\u001b[0m\n",
            "\u001b[0;32m/usr/local/lib/python3.11/dist-packages/ipykernel/kernelbase.py\u001b[0m in \u001b[0;36m_input_request\u001b[0;34m(self, prompt, ident, parent, password)\u001b[0m\n\u001b[1;32m    893\u001b[0m             \u001b[0;32mexcept\u001b[0m \u001b[0mKeyboardInterrupt\u001b[0m\u001b[0;34m:\u001b[0m\u001b[0;34m\u001b[0m\u001b[0;34m\u001b[0m\u001b[0m\n\u001b[1;32m    894\u001b[0m                 \u001b[0;31m# re-raise KeyboardInterrupt, to truncate traceback\u001b[0m\u001b[0;34m\u001b[0m\u001b[0;34m\u001b[0m\u001b[0m\n\u001b[0;32m--> 895\u001b[0;31m                 \u001b[0;32mraise\u001b[0m \u001b[0mKeyboardInterrupt\u001b[0m\u001b[0;34m(\u001b[0m\u001b[0;34m\"Interrupted by user\"\u001b[0m\u001b[0;34m)\u001b[0m \u001b[0;32mfrom\u001b[0m \u001b[0;32mNone\u001b[0m\u001b[0;34m\u001b[0m\u001b[0;34m\u001b[0m\u001b[0m\n\u001b[0m\u001b[1;32m    896\u001b[0m             \u001b[0;32mexcept\u001b[0m \u001b[0mException\u001b[0m \u001b[0;32mas\u001b[0m \u001b[0me\u001b[0m\u001b[0;34m:\u001b[0m\u001b[0;34m\u001b[0m\u001b[0;34m\u001b[0m\u001b[0m\n\u001b[1;32m    897\u001b[0m                 \u001b[0mself\u001b[0m\u001b[0;34m.\u001b[0m\u001b[0mlog\u001b[0m\u001b[0;34m.\u001b[0m\u001b[0mwarning\u001b[0m\u001b[0;34m(\u001b[0m\u001b[0;34m\"Invalid Message:\"\u001b[0m\u001b[0;34m,\u001b[0m \u001b[0mexc_info\u001b[0m\u001b[0;34m=\u001b[0m\u001b[0;32mTrue\u001b[0m\u001b[0;34m)\u001b[0m\u001b[0;34m\u001b[0m\u001b[0;34m\u001b[0m\u001b[0m\n",
            "\u001b[0;31mKeyboardInterrupt\u001b[0m: Interrupted by user"
          ]
        }
      ]
    },
    {
      "cell_type": "code",
      "source": [
        "def calculator():\n",
        "  x=float(input('enter a number'))\n",
        "  op=input('enter an oprator')\n",
        "  y=float(input('enter a number'))\n",
        "  for i in op:\n",
        "    if op=='+':\n",
        "      print(x,'+',y,x+y)\n",
        "    elif op=='-':\n",
        "        print(x,'-',y,x-y)\n",
        "    elif op=='*':\n",
        "      print(x,'*',y,x*y)\n",
        "    elif op=='/':\n",
        "      if y==0:\n",
        "        print('deviding by zero is not possible')\n",
        "      else:\n",
        "        print(x,'/',y,x/y)\n",
        "    else:\n",
        "      print('invalid operation')\n",
        "      return calculator\n",
        "calculator()\n",
        "\n",
        "while True:\n",
        "   k=input('do you want continue? y for yes or n for no ')\n",
        "   if k=='n':\n",
        "    break\n",
        "   continue"
      ],
      "metadata": {
        "colab": {
          "base_uri": "https://localhost:8080/"
        },
        "id": "7mpaxLmWClLk",
        "outputId": "c568fea2-5e99-4d17-835d-c552c0f672b3"
      },
      "execution_count": 24,
      "outputs": [
        {
          "name": "stdout",
          "output_type": "stream",
          "text": [
            "enter a number3\n",
            "enter an oprator+\n",
            "enter a number3\n",
            "3.0 + 3.0 6.0\n",
            "do you want continue? y for yes or n for no n\n"
          ]
        }
      ]
    }
  ]
}